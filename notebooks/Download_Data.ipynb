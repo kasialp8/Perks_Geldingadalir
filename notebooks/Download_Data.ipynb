{
 "cells": [
  {
   "cell_type": "markdown",
   "metadata": {},
   "source": [
    "### Raw Data Download Notebook\n",
    "\n",
    "*Important Note:* This notebook runs using a different environment than this project's computational notebook. ObsPy is required, along with numpy and matplotlib"
   ]
  },
  {
   "cell_type": "markdown",
   "metadata": {},
   "source": [
    "Zali et al. 2024 pulls horizontal seismic data from a single horizontal component from a single station, demeaned and detrended but not converted from instrument response. The data is pulled from March 12 to June 24, ~104 days, beginning 7 days before the Geldingadalir eruption began. The data is also downsampled to the minimum sampling rate necessary to observe the local volcanic tremor.\n",
    "\n",
    "------------------\n",
    "\n",
    "This notebook will download 100 days of data, beginning on March 1st, 2005 and ending June 9th, 2005, from sensor CC.STD of the Cascade Chain Volcano Monitoring network, located on Mount St. Helens on Studebaker Ridge. Mount St. Helens had a series of eruptions of ash and steam between 2004 and 2008, but this will focus on the second explosive eruption on March 8th, 2005 that was preceeded by seismic activity. https://www.usgs.gov/volcanoes/mount-st.-helens/science/2004-2008-renewed-volcanic-activity "
   ]
  },
  {
   "cell_type": "code",
   "execution_count": 2,
   "metadata": {},
   "outputs": [
    {
     "name": "stdout",
     "output_type": "stream",
     "text": [
      "Requirement already satisfied: obspy in /Users/KatarzynaPerks/Documents/GitHub/kperks_Geldingadalir/.conda/lib/python3.11/site-packages (1.4.1)\n",
      "Requirement already satisfied: numpy>=1.20 in /Users/KatarzynaPerks/Documents/GitHub/kperks_Geldingadalir/.conda/lib/python3.11/site-packages (from obspy) (2.1.2)\n",
      "Requirement already satisfied: scipy>=1.7 in /Users/KatarzynaPerks/Documents/GitHub/kperks_Geldingadalir/.conda/lib/python3.11/site-packages (from obspy) (1.14.1)\n",
      "Requirement already satisfied: matplotlib>=3.3 in /Users/KatarzynaPerks/Documents/GitHub/kperks_Geldingadalir/.conda/lib/python3.11/site-packages (from obspy) (3.9.2)\n",
      "Requirement already satisfied: lxml in /Users/KatarzynaPerks/Documents/GitHub/kperks_Geldingadalir/.conda/lib/python3.11/site-packages (from obspy) (5.3.0)\n",
      "Requirement already satisfied: setuptools in /Users/KatarzynaPerks/Documents/GitHub/kperks_Geldingadalir/.conda/lib/python3.11/site-packages (from obspy) (75.1.0)\n",
      "Requirement already satisfied: sqlalchemy<2 in /Users/KatarzynaPerks/Documents/GitHub/kperks_Geldingadalir/.conda/lib/python3.11/site-packages (from obspy) (1.4.54)\n",
      "Requirement already satisfied: decorator in /Users/KatarzynaPerks/Documents/GitHub/kperks_Geldingadalir/.conda/lib/python3.11/site-packages (from obspy) (5.1.1)\n",
      "Requirement already satisfied: requests in /Users/KatarzynaPerks/Documents/GitHub/kperks_Geldingadalir/.conda/lib/python3.11/site-packages (from obspy) (2.32.3)\n",
      "Requirement already satisfied: contourpy>=1.0.1 in /Users/KatarzynaPerks/Documents/GitHub/kperks_Geldingadalir/.conda/lib/python3.11/site-packages (from matplotlib>=3.3->obspy) (1.3.0)\n",
      "Requirement already satisfied: cycler>=0.10 in /Users/KatarzynaPerks/Documents/GitHub/kperks_Geldingadalir/.conda/lib/python3.11/site-packages (from matplotlib>=3.3->obspy) (0.12.1)\n",
      "Requirement already satisfied: fonttools>=4.22.0 in /Users/KatarzynaPerks/Documents/GitHub/kperks_Geldingadalir/.conda/lib/python3.11/site-packages (from matplotlib>=3.3->obspy) (4.54.1)\n",
      "Requirement already satisfied: kiwisolver>=1.3.1 in /Users/KatarzynaPerks/Documents/GitHub/kperks_Geldingadalir/.conda/lib/python3.11/site-packages (from matplotlib>=3.3->obspy) (1.4.7)\n",
      "Requirement already satisfied: packaging>=20.0 in /Users/KatarzynaPerks/Documents/GitHub/kperks_Geldingadalir/.conda/lib/python3.11/site-packages (from matplotlib>=3.3->obspy) (24.1)\n",
      "Requirement already satisfied: pillow>=8 in /Users/KatarzynaPerks/Documents/GitHub/kperks_Geldingadalir/.conda/lib/python3.11/site-packages (from matplotlib>=3.3->obspy) (11.0.0)\n",
      "Requirement already satisfied: pyparsing>=2.3.1 in /Users/KatarzynaPerks/Documents/GitHub/kperks_Geldingadalir/.conda/lib/python3.11/site-packages (from matplotlib>=3.3->obspy) (3.2.0)\n",
      "Requirement already satisfied: python-dateutil>=2.7 in /Users/KatarzynaPerks/Documents/GitHub/kperks_Geldingadalir/.conda/lib/python3.11/site-packages (from matplotlib>=3.3->obspy) (2.9.0)\n",
      "Requirement already satisfied: greenlet!=0.4.17 in /Users/KatarzynaPerks/Documents/GitHub/kperks_Geldingadalir/.conda/lib/python3.11/site-packages (from sqlalchemy<2->obspy) (3.1.1)\n",
      "Requirement already satisfied: charset-normalizer<4,>=2 in /Users/KatarzynaPerks/Documents/GitHub/kperks_Geldingadalir/.conda/lib/python3.11/site-packages (from requests->obspy) (3.4.0)\n",
      "Requirement already satisfied: idna<4,>=2.5 in /Users/KatarzynaPerks/Documents/GitHub/kperks_Geldingadalir/.conda/lib/python3.11/site-packages (from requests->obspy) (3.10)\n",
      "Requirement already satisfied: urllib3<3,>=1.21.1 in /Users/KatarzynaPerks/Documents/GitHub/kperks_Geldingadalir/.conda/lib/python3.11/site-packages (from requests->obspy) (2.2.3)\n",
      "Requirement already satisfied: certifi>=2017.4.17 in /Users/KatarzynaPerks/Documents/GitHub/kperks_Geldingadalir/.conda/lib/python3.11/site-packages (from requests->obspy) (2024.8.30)\n",
      "Requirement already satisfied: six>=1.5 in /Users/KatarzynaPerks/Documents/GitHub/kperks_Geldingadalir/.conda/lib/python3.11/site-packages (from python-dateutil>=2.7->matplotlib>=3.3->obspy) (1.16.0)\n"
     ]
    }
   ],
   "source": [
    "!pip install obspy"
   ]
  },
  {
   "cell_type": "code",
   "execution_count": 1,
   "metadata": {},
   "outputs": [],
   "source": [
    "import obspy\n",
    "from obspy import UTCDateTime as utc\n",
    "from obspy.clients.fdsn import Client\n",
    "client = Client('IRIS')\n",
    "import numpy as np\n",
    "import os"
   ]
  },
  {
   "cell_type": "code",
   "execution_count": 2,
   "metadata": {},
   "outputs": [],
   "source": [
    "def process(st, buffer, freq, max_target_frequency): #freq is the original sampling frequency\n",
    "    st.merge(fill_value='interpolate')\n",
    "    tr = st[0].copy()"
   ]
  },
  {
   "cell_type": "markdown",
   "metadata": {},
   "source": [
    "### Data Description\n",
    "\n",
    "The seismic data is downloaded from the IRIS/Earthscope Database using ObsPy. The data downloads as a trace, an array of data with attached metadata, which is then packaged into a stream, which can contain multiple traces. The daily seismic data records are then saved as mseed files, which preserve this data+metadata structure, but requires ObsPy or other specialized software to open."
   ]
  },
  {
   "cell_type": "code",
   "execution_count": 3,
   "metadata": {},
   "outputs": [
    {
     "name": "stdout",
     "output_type": "stream",
     "text": [
      "mkdir: data: File exists\n",
      "mkdir: data/raw: File exists\n",
      "Downloading data from 2005-03-01T00:00:00.000000Z to 2005-06-09T00:00:00.000000Z\n",
      "data download complete, saved to /Users/KatarzynaPerks/Documents/GitHub/Perks_Geldingadalir/notebooks/data/raw/\n"
     ]
    }
   ],
   "source": [
    "#creating variables to download data\n",
    "starttime = utc('2005-03-01T00:00:00')\n",
    "endtime = starttime + 100 * (60*60*24)\n",
    "\n",
    "#also add a buffer to both ends to chop off once the data has been filtered\n",
    "#and downsampled, kind of arbitrary length, 5% of a day (default ObsPy taper length)\n",
    "buffer = 60*60*24*0.05 #seconds\n",
    "\n",
    "net = 'CC'\n",
    "sta = 'STD'\n",
    "loc = '*' #wildcard, generally don't care about location code\n",
    "cha = 'BHN' #horizontal component, as used in Zali et al\n",
    "\n",
    "#create folder for numpy streams to go into and initialize filepath\n",
    "!mkdir data\n",
    "!mkdir data/raw\n",
    "filepath = os.getcwd() + '/data/raw/'\n",
    "\n",
    "#create arrays to save dates\n",
    "dates = np.array([])\n",
    "\n",
    "print(f'Downloading data from {starttime} to {endtime}')\n",
    "#download the data piecemeal, here by day\n",
    "for day in range(100):\n",
    "    tr_length = 24*60*60\n",
    "\n",
    "    try:\n",
    "        #actually downloading\n",
    "        st = client.get_waveforms(network=net,\n",
    "                     station=sta,\n",
    "                     location=loc,\n",
    "                     channel=cha,\n",
    "                     starttime=starttime-buffer,\n",
    "                     endtime=starttime+buffer+tr_length)\n",
    "\n",
    "        #instrument sampling rate (hz)\n",
    "        freq = st[0].stats.sampling_rate\n",
    "\n",
    "        #merge traces within stream, linearly interpolating any gaps\n",
    "        st.merge(fill_value='interpolate')\n",
    "    \n",
    "        #generate filename, day number in front for convenience of reading in\n",
    "        name = str(day+1)+'_sthelens.mseed'\n",
    "    \n",
    "        #save data as mseed, standard for storing seismic data. Preserves metadata and time series info\n",
    "        st.write(filepath+name, format='MSEED')\n",
    "\n",
    "        #adding date\n",
    "        dates = np.append(dates, starttime.date)\n",
    "\n",
    "    except FDSNNoDataException:\n",
    "        print(f'No data available for {starttime.date()}')\n",
    "    \n",
    "\n",
    "        starttime += tr_length\n",
    "\n",
    "\n",
    "#save dates list for future use\n",
    "np.save(filepath+'date_list.csv', dates)\n",
    "\n",
    "print(f'data download complete, saved to {filepath}')\n",
    "\n"
   ]
  },
  {
   "cell_type": "markdown",
   "metadata": {
    "vscode": {
     "languageId": "markdown"
    }
   },
   "source": [
    "### Data Modalities and Formats\n",
    "\n",
    "#### Data Modalities\n",
    "The dataset consists of seismic data collected from a single horizontal component (BHN) of the CC.STD station located on Mount St. Helens. The data is recorded continuously over a period of 100 days, capturing the seismic activity before, during, and after the steam and ash eruption.\n",
    "\n",
    "#### Data Formats\n",
    "1. **MSEED (Mini-SEED) Files**:\n",
    "    - The seismic data is stored in Mini-SEED format, which is a compact binary format used for storing time series data. Each file contains a day's worth of seismic data, including metadata such as the sampling rate and station information.\n",
    "    - Example file name: `1_sthelens.mseed`, `2_sthelens.mseed`, ..., `100_sthelens.mseed`.\n",
    "2. **Numpy Arrays**:\n",
    "    - The dates corresponding to each day's seismic data are stored in a numpy array and saved as a CSV file (`date_list.csv`). This array helps in mapping the MSEED files to their respective dates.\n",
    "    - Example: `dates = np.array([datetime.date(2005, 3, 1), datetime.date(2005, 3, 2), ...])`.\n",
    "\n",
    "#### Data Processing\n",
    "- The raw seismic data is downloaded using the ObsPy library from the IRIS/Earthscope Database.\n",
    "- The data is merged and interpolated to fill any gaps, ensuring a continuous time series.\n",
    "- The processed data is saved in the MSEED format, preserving both the time series and metadata.\n",
    "\n",
    "This structured approach ensures that the seismic data is well-organized and easily accessible for further analysis and processing."
   ]
  },
  {
   "cell_type": "code",
   "execution_count": 4,
   "metadata": {},
   "outputs": [
    {
     "name": "stdout",
     "output_type": "stream",
     "text": [
      "Example data from 100_sthelens.mseed\n",
      "               network: CC\n",
      "               station: STD\n",
      "              location: \n",
      "               channel: BHN\n",
      "             starttime: 2005-02-28T22:48:00.000000Z\n",
      "               endtime: 2005-03-02T01:12:00.000000Z\n",
      "         sampling_rate: 50.0\n",
      "                 delta: 0.02\n",
      "                  npts: 4752001\n",
      "                 calib: 1.0\n",
      "_fdsnws_dataselect_url: http://service.iris.edu/fdsnws/dataselect/1/query\n",
      "               _format: MSEED\n",
      "                 mseed: AttribDict({'dataquality': 'M', 'number_of_records': 3282, 'encoding': 'STEIM1', 'byteorder': '>', 'record_length': 512, 'filesize': 11978752})\n",
      "            processing: ['ObsPy 1.4.1: trim(endtime=UTCDateTime(2005, 3, 2, 1, 12)::fill_value=None::nearest_sample=True::pad=False::starttime=UTCDateTime(2005, 2, 28, 22, 48))']\n",
      "\n",
      "Example data from 100_sthelens.mseed\n",
      "[353322 349615 345409 ... 346392 340573 335078]\n",
      "\n"
     ]
    }
   ],
   "source": [
    "# display some data from the mseed file\n",
    "print(f'Example data from {name}')\n",
    "print(st[0].stats)\n",
    "print()\n",
    "\n",
    "# display the numpy array\n",
    "print(f'Example data from {name}')\n",
    "print(st[0].data)\n",
    "print()"
   ]
  },
  {
   "cell_type": "code",
   "execution_count": null,
   "metadata": {},
   "outputs": [],
   "source": []
  }
 ],
 "metadata": {
  "kernelspec": {
   "display_name": "Python 3",
   "language": "python",
   "name": "python3"
  },
  "language_info": {
   "codemirror_mode": {
    "name": "ipython",
    "version": 3
   },
   "file_extension": ".py",
   "mimetype": "text/x-python",
   "name": "python",
   "nbconvert_exporter": "python",
   "pygments_lexer": "ipython3",
   "version": "3.11.10"
  }
 },
 "nbformat": 4,
 "nbformat_minor": 2
}
