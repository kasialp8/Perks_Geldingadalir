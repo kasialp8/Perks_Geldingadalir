{
 "cells": [
  {
   "cell_type": "code",
   "execution_count": 3,
   "metadata": {},
   "outputs": [
    {
     "name": "stdout",
     "output_type": "stream",
     "text": [
      "Unexpected exception formatting exception. Falling back to standard exception\n"
     ]
    },
    {
     "name": "stderr",
     "output_type": "stream",
     "text": [
      "Traceback (most recent call last):\n",
      "  File \"/Users/KatarzynaPerks/Documents/GitHub/kperks_Geldingadalir/.conda/lib/python3.11/site-packages/IPython/core/interactiveshell.py\", line 3577, in run_code\n",
      "  File \"/var/folders/m2/42vv0n3j53n_t2lw8y8x0td40000gn/T/ipykernel_16289/3137448955.py\", line 1, in <module>\n",
      "    get_ipython().system('pip install scikit-learn')\n",
      "  File \"/Users/KatarzynaPerks/Documents/GitHub/kperks_Geldingadalir/.conda/lib/python3.11/site-packages/ipykernel/zmqshell.py\", line 657, in system_piped\n",
      "  File \"/Users/KatarzynaPerks/Documents/GitHub/kperks_Geldingadalir/.conda/lib/python3.11/site-packages/IPython/utils/_process_posix.py\", line 125, in system\n",
      "ModuleNotFoundError: No module named 'pexpect'\n",
      "\n",
      "During handling of the above exception, another exception occurred:\n",
      "\n",
      "Traceback (most recent call last):\n",
      "  File \"/Users/KatarzynaPerks/Documents/GitHub/kperks_Geldingadalir/.conda/lib/python3.11/site-packages/pygments/styles/__init__.py\", line 45, in get_style_by_name\n",
      "ModuleNotFoundError: No module named 'pygments.styles.default'\n",
      "\n",
      "During handling of the above exception, another exception occurred:\n",
      "\n",
      "Traceback (most recent call last):\n",
      "  File \"/Users/KatarzynaPerks/Documents/GitHub/kperks_Geldingadalir/.conda/lib/python3.11/site-packages/IPython/core/interactiveshell.py\", line 2168, in showtraceback\n",
      "  File \"/Users/KatarzynaPerks/Documents/GitHub/kperks_Geldingadalir/.conda/lib/python3.11/site-packages/IPython/core/ultratb.py\", line 1457, in structured_traceback\n",
      "  File \"/Users/KatarzynaPerks/Documents/GitHub/kperks_Geldingadalir/.conda/lib/python3.11/site-packages/IPython/core/ultratb.py\", line 1348, in structured_traceback\n",
      "  File \"/Users/KatarzynaPerks/Documents/GitHub/kperks_Geldingadalir/.conda/lib/python3.11/site-packages/IPython/core/ultratb.py\", line 1195, in structured_traceback\n",
      "  File \"/Users/KatarzynaPerks/Documents/GitHub/kperks_Geldingadalir/.conda/lib/python3.11/site-packages/IPython/core/ultratb.py\", line 1085, in format_exception_as_a_whole\n",
      "  File \"/Users/KatarzynaPerks/Documents/GitHub/kperks_Geldingadalir/.conda/lib/python3.11/site-packages/IPython/core/ultratb.py\", line 1136, in get_records\n",
      "  File \"/Users/KatarzynaPerks/Documents/GitHub/kperks_Geldingadalir/.conda/lib/python3.11/site-packages/pygments/styles/__init__.py\", line 47, in get_style_by_name\n",
      "pygments.util.ClassNotFound: Could not find style module 'pygments.styles.default', though it should be builtin.\n"
     ]
    }
   ],
   "source": [
    "!pip install scikit-learn"
   ]
  },
  {
   "cell_type": "markdown",
   "metadata": {},
   "source": [
    "# Exploratory Data Analysis (EDA) #"
   ]
  },
  {
   "cell_type": "code",
   "execution_count": 4,
   "metadata": {},
   "outputs": [
    {
     "name": "stdout",
     "output_type": "stream",
     "text": [
      "Unexpected exception formatting exception. Falling back to standard exception\n"
     ]
    },
    {
     "name": "stderr",
     "output_type": "stream",
     "text": [
      "Traceback (most recent call last):\n",
      "  File \"/Users/KatarzynaPerks/Documents/GitHub/kperks_Geldingadalir/.conda/lib/python3.11/site-packages/IPython/core/interactiveshell.py\", line 3577, in run_code\n",
      "  File \"/var/folders/m2/42vv0n3j53n_t2lw8y8x0td40000gn/T/ipykernel_16289/1436886723.py\", line 1, in <module>\n",
      "    import numpy as np\n",
      "ModuleNotFoundError: No module named 'numpy'\n",
      "\n",
      "During handling of the above exception, another exception occurred:\n",
      "\n",
      "Traceback (most recent call last):\n",
      "  File \"/Users/KatarzynaPerks/Documents/GitHub/kperks_Geldingadalir/.conda/lib/python3.11/site-packages/pygments/styles/__init__.py\", line 45, in get_style_by_name\n",
      "ModuleNotFoundError: No module named 'pygments.styles.default'\n",
      "\n",
      "During handling of the above exception, another exception occurred:\n",
      "\n",
      "Traceback (most recent call last):\n",
      "  File \"/Users/KatarzynaPerks/Documents/GitHub/kperks_Geldingadalir/.conda/lib/python3.11/site-packages/IPython/core/interactiveshell.py\", line 2168, in showtraceback\n",
      "  File \"/Users/KatarzynaPerks/Documents/GitHub/kperks_Geldingadalir/.conda/lib/python3.11/site-packages/IPython/core/ultratb.py\", line 1457, in structured_traceback\n",
      "  File \"/Users/KatarzynaPerks/Documents/GitHub/kperks_Geldingadalir/.conda/lib/python3.11/site-packages/IPython/core/ultratb.py\", line 1348, in structured_traceback\n",
      "  File \"/Users/KatarzynaPerks/Documents/GitHub/kperks_Geldingadalir/.conda/lib/python3.11/site-packages/IPython/core/ultratb.py\", line 1195, in structured_traceback\n",
      "  File \"/Users/KatarzynaPerks/Documents/GitHub/kperks_Geldingadalir/.conda/lib/python3.11/site-packages/IPython/core/ultratb.py\", line 1085, in format_exception_as_a_whole\n",
      "  File \"/Users/KatarzynaPerks/Documents/GitHub/kperks_Geldingadalir/.conda/lib/python3.11/site-packages/IPython/core/ultratb.py\", line 1136, in get_records\n",
      "  File \"/Users/KatarzynaPerks/Documents/GitHub/kperks_Geldingadalir/.conda/lib/python3.11/site-packages/pygments/styles/__init__.py\", line 47, in get_style_by_name\n",
      "pygments.util.ClassNotFound: Could not find style module 'pygments.styles.default', though it should be builtin.\n"
     ]
    }
   ],
   "source": [
    "import numpy as np\n",
    "import pandas as pd\n",
    "import os\n",
    "import matplotlib.pyplot as plt\n",
    "\n",
    "# Load the data from the .npy file\n",
    "data_path = 'data/ai_ready'\n",
    "file_name = '1_ready.npy'\n",
    "full_path = os.path.join(data_path, file_name)\n",
    "east_component_data = np.load(full_path)\n",
    "\n",
    "# Define a window size and overlap (in number of samples)\n",
    "freq = 25 #25 samples per second (For Sitkin Data)\n",
    "window_size = 15 * 60 * 25  #15 minute long window\n",
    "overlap = 500\n",
    "\n",
    "# Sliding window function\n",
    "def sliding_window(data, window_size, overlap):\n",
    "    step = window_size - overlap\n",
    "    windows = [data[i:i+window_size] for i in range(0, len(data)-window_size+1, step)]\n",
    "    return windows\n",
    "\n",
    "# Apply the sliding window function to the data\n",
    "windows = sliding_window(east_component_data, window_size, overlap)\n",
    "\n",
    "# Feature extraction: calculate mean, std, etc. for each window\n",
    "features = []\n",
    "for window in windows:\n",
    "    mean = np.mean(window)\n",
    "    std = np.std(window)\n",
    "    max_val = np.max(window)\n",
    "    min_val = np.min(window)\n",
    "    features.append([mean, std, max_val, min_val])\n",
    "\n",
    "# Convert the features list to a NumPy array\n",
    "features = np.array(features)\n",
    "\n",
    "# Print the shape of the features array to verify\n",
    "print('Features shape:', features.shape, '\\n')\n",
    "\n",
    "# Print the first few rows of the features array\n",
    "print('First 5 rows of features:')\n",
    "print(features[:5], '\\n')\n",
    "\n",
    "# Print summary statistics for each feature\n",
    "feature_names = ['Mean', 'Std', 'Max', 'Min']\n",
    "for i, name in enumerate(feature_names):\n",
    "    print(f'{name} - Mean: {np.mean(features[:, i]):.2f}, Std: {np.std(features[:, i]):.2f}, '\n",
    "          f'Min: {np.min(features[:, i]):.2f}, Max: {np.max(features[:, i]):.2f}')\n",
    "\n",
    "# Print the data types of the features\n",
    "print('Data types of features:', features.dtype)\n",
    "\n",
    "# Optionally, save the features to a new .npy file\n",
    "output_file = os.path.join(data_path, '1_ready_features.npy')\n",
    "#os.makedirs(data_path, exist_ok=True)\n",
    "np.save(output_file, features)\n"
   ]
  },
  {
   "cell_type": "code",
   "execution_count": 5,
   "metadata": {},
   "outputs": [
    {
     "name": "stdout",
     "output_type": "stream",
     "text": [
      "Unexpected exception formatting exception. Falling back to standard exception\n"
     ]
    },
    {
     "name": "stderr",
     "output_type": "stream",
     "text": [
      "Traceback (most recent call last):\n",
      "  File \"/Users/KatarzynaPerks/Documents/GitHub/kperks_Geldingadalir/.conda/lib/python3.11/site-packages/IPython/core/interactiveshell.py\", line 3577, in run_code\n",
      "  File \"/var/folders/m2/42vv0n3j53n_t2lw8y8x0td40000gn/T/ipykernel_16289/1843049678.py\", line 9, in <module>\n",
      "    sup_mean, sup_min, sup_max, sup_std = statistics(east_component_data)\n",
      "                                                     ^^^^^^^^^^^^^^^^^^^\n",
      "NameError: name 'east_component_data' is not defined\n",
      "\n",
      "During handling of the above exception, another exception occurred:\n",
      "\n",
      "Traceback (most recent call last):\n",
      "  File \"/Users/KatarzynaPerks/Documents/GitHub/kperks_Geldingadalir/.conda/lib/python3.11/site-packages/pygments/styles/__init__.py\", line 45, in get_style_by_name\n",
      "ModuleNotFoundError: No module named 'pygments.styles.default'\n",
      "\n",
      "During handling of the above exception, another exception occurred:\n",
      "\n",
      "Traceback (most recent call last):\n",
      "  File \"/Users/KatarzynaPerks/Documents/GitHub/kperks_Geldingadalir/.conda/lib/python3.11/site-packages/IPython/core/interactiveshell.py\", line 2168, in showtraceback\n",
      "  File \"/Users/KatarzynaPerks/Documents/GitHub/kperks_Geldingadalir/.conda/lib/python3.11/site-packages/IPython/core/ultratb.py\", line 1457, in structured_traceback\n",
      "  File \"/Users/KatarzynaPerks/Documents/GitHub/kperks_Geldingadalir/.conda/lib/python3.11/site-packages/IPython/core/ultratb.py\", line 1348, in structured_traceback\n",
      "  File \"/Users/KatarzynaPerks/Documents/GitHub/kperks_Geldingadalir/.conda/lib/python3.11/site-packages/IPython/core/ultratb.py\", line 1195, in structured_traceback\n",
      "  File \"/Users/KatarzynaPerks/Documents/GitHub/kperks_Geldingadalir/.conda/lib/python3.11/site-packages/IPython/core/ultratb.py\", line 1085, in format_exception_as_a_whole\n",
      "  File \"/Users/KatarzynaPerks/Documents/GitHub/kperks_Geldingadalir/.conda/lib/python3.11/site-packages/IPython/core/ultratb.py\", line 1136, in get_records\n",
      "  File \"/Users/KatarzynaPerks/Documents/GitHub/kperks_Geldingadalir/.conda/lib/python3.11/site-packages/pygments/styles/__init__.py\", line 47, in get_style_by_name\n",
      "pygments.util.ClassNotFound: Could not find style module 'pygments.styles.default', though it should be builtin.\n"
     ]
    }
   ],
   "source": [
    "#Also compute overall statistics\n",
    "\n",
    "def statistics(data):\n",
    "    #returns mean, min, max, and standard deviation of input data\n",
    "\n",
    "    return(np.mean(data), np.min(data), np.max(data), np.std(data))\n",
    "\n",
    "#sup = shorthand for super/overall\n",
    "sup_mean, sup_min, sup_max, sup_std = statistics(east_component_data)\n",
    "\n",
    "#save to dictions\n",
    "sup_stats = {'Mean':sup_mean, 'Minimum':sup_min, 'Maximum':sup_max, 'Standard Deviation':sup_std}\n",
    "\n",
    "#print values\n",
    "print('Overall Statistics')\n",
    "print()\n",
    "\n",
    "for val in sup_stats:\n",
    "    print(val + ' : ' + str(sup_stats[val]))"
   ]
  },
  {
   "cell_type": "markdown",
   "metadata": {},
   "source": [
    "## Look at distributions of window statistics"
   ]
  },
  {
   "cell_type": "code",
   "execution_count": 6,
   "metadata": {},
   "outputs": [
    {
     "name": "stdout",
     "output_type": "stream",
     "text": [
      "Unexpected exception formatting exception. Falling back to standard exception\n"
     ]
    },
    {
     "name": "stderr",
     "output_type": "stream",
     "text": [
      "Traceback (most recent call last):\n",
      "  File \"/Users/KatarzynaPerks/Documents/GitHub/kperks_Geldingadalir/.conda/lib/python3.11/site-packages/IPython/core/interactiveshell.py\", line 3577, in run_code\n",
      "  File \"/var/folders/m2/42vv0n3j53n_t2lw8y8x0td40000gn/T/ipykernel_16289/54140867.py\", line 2, in <module>\n",
      "    stats_df = pd.DataFrame(features, columns=['Mean', 'Std', 'Max', 'Min'])\n",
      "               ^^\n",
      "NameError: name 'pd' is not defined\n",
      "\n",
      "During handling of the above exception, another exception occurred:\n",
      "\n",
      "Traceback (most recent call last):\n",
      "  File \"/Users/KatarzynaPerks/Documents/GitHub/kperks_Geldingadalir/.conda/lib/python3.11/site-packages/pygments/styles/__init__.py\", line 45, in get_style_by_name\n",
      "ModuleNotFoundError: No module named 'pygments.styles.default'\n",
      "\n",
      "During handling of the above exception, another exception occurred:\n",
      "\n",
      "Traceback (most recent call last):\n",
      "  File \"/Users/KatarzynaPerks/Documents/GitHub/kperks_Geldingadalir/.conda/lib/python3.11/site-packages/IPython/core/interactiveshell.py\", line 2168, in showtraceback\n",
      "  File \"/Users/KatarzynaPerks/Documents/GitHub/kperks_Geldingadalir/.conda/lib/python3.11/site-packages/IPython/core/ultratb.py\", line 1457, in structured_traceback\n",
      "  File \"/Users/KatarzynaPerks/Documents/GitHub/kperks_Geldingadalir/.conda/lib/python3.11/site-packages/IPython/core/ultratb.py\", line 1348, in structured_traceback\n",
      "  File \"/Users/KatarzynaPerks/Documents/GitHub/kperks_Geldingadalir/.conda/lib/python3.11/site-packages/IPython/core/ultratb.py\", line 1195, in structured_traceback\n",
      "  File \"/Users/KatarzynaPerks/Documents/GitHub/kperks_Geldingadalir/.conda/lib/python3.11/site-packages/IPython/core/ultratb.py\", line 1085, in format_exception_as_a_whole\n",
      "  File \"/Users/KatarzynaPerks/Documents/GitHub/kperks_Geldingadalir/.conda/lib/python3.11/site-packages/IPython/core/ultratb.py\", line 1136, in get_records\n",
      "  File \"/Users/KatarzynaPerks/Documents/GitHub/kperks_Geldingadalir/.conda/lib/python3.11/site-packages/pygments/styles/__init__.py\", line 47, in get_style_by_name\n",
      "pygments.util.ClassNotFound: Could not find style module 'pygments.styles.default', though it should be builtin.\n"
     ]
    }
   ],
   "source": [
    "#put features into labeled dataframe\n",
    "stats_df = pd.DataFrame(features, columns=['Mean', 'Std', 'Max', 'Min'])\n",
    "\n",
    "#plot histogram for each stat\n",
    "fig, axs = plt.subplots(nrows=2,ncols=2)\n",
    "fig.set_size_inches(7,7)\n",
    "plt.tight_layout(h_pad=4)\n",
    "\n",
    "axs[0][0].hist(stats_df['Mean'], color='firebrick')\n",
    "axs[0][0].set_title('Mean')\n",
    "axs[0][0].set_xlabel('Value')\n",
    "axs[0][0].set_ylabel('Counts')\n",
    "axs[0][0].grid()\n",
    "\n",
    "axs[0][1].hist(stats_df['Std'], color='turquoise')\n",
    "axs[0][1].set_title('Standard Deviation')\n",
    "axs[0][1].set_xlabel('Value')\n",
    "axs[0][1].set_ylabel('Counts')\n",
    "axs[0][1].grid()\n",
    "\n",
    "axs[1][0].hist(stats_df['Max'], color='midnightblue')\n",
    "axs[1][0].set_title('Maximum')\n",
    "axs[1][0].set_xlabel('Value')\n",
    "axs[1][0].set_ylabel('Counts')\n",
    "axs[1][0].grid()\n",
    "\n",
    "axs[1][1].hist(stats_df['Min'], color='khaki')\n",
    "axs[1][1].set_title('Minimum')\n",
    "axs[1][1].set_xlabel('Value')\n",
    "axs[1][1].set_ylabel('Counts')\n",
    "axs[1][1].grid();"
   ]
  },
  {
   "cell_type": "markdown",
   "metadata": {},
   "source": [
    "## Compute overall spectra and spectrogram of data"
   ]
  },
  {
   "cell_type": "code",
   "execution_count": 7,
   "metadata": {},
   "outputs": [
    {
     "name": "stdout",
     "output_type": "stream",
     "text": [
      "Unexpected exception formatting exception. Falling back to standard exception\n"
     ]
    },
    {
     "name": "stderr",
     "output_type": "stream",
     "text": [
      "Traceback (most recent call last):\n",
      "  File \"/Users/KatarzynaPerks/Documents/GitHub/kperks_Geldingadalir/.conda/lib/python3.11/site-packages/IPython/core/interactiveshell.py\", line 3577, in run_code\n",
      "  File \"/var/folders/m2/42vv0n3j53n_t2lw8y8x0td40000gn/T/ipykernel_16289/3103230396.py\", line 1, in <module>\n",
      "    from scipy import signal\n",
      "ModuleNotFoundError: No module named 'scipy'\n",
      "\n",
      "During handling of the above exception, another exception occurred:\n",
      "\n",
      "Traceback (most recent call last):\n",
      "  File \"/Users/KatarzynaPerks/Documents/GitHub/kperks_Geldingadalir/.conda/lib/python3.11/site-packages/pygments/styles/__init__.py\", line 45, in get_style_by_name\n",
      "ModuleNotFoundError: No module named 'pygments.styles.default'\n",
      "\n",
      "During handling of the above exception, another exception occurred:\n",
      "\n",
      "Traceback (most recent call last):\n",
      "  File \"/Users/KatarzynaPerks/Documents/GitHub/kperks_Geldingadalir/.conda/lib/python3.11/site-packages/IPython/core/interactiveshell.py\", line 2168, in showtraceback\n",
      "  File \"/Users/KatarzynaPerks/Documents/GitHub/kperks_Geldingadalir/.conda/lib/python3.11/site-packages/IPython/core/ultratb.py\", line 1457, in structured_traceback\n",
      "  File \"/Users/KatarzynaPerks/Documents/GitHub/kperks_Geldingadalir/.conda/lib/python3.11/site-packages/IPython/core/ultratb.py\", line 1348, in structured_traceback\n",
      "  File \"/Users/KatarzynaPerks/Documents/GitHub/kperks_Geldingadalir/.conda/lib/python3.11/site-packages/IPython/core/ultratb.py\", line 1195, in structured_traceback\n",
      "  File \"/Users/KatarzynaPerks/Documents/GitHub/kperks_Geldingadalir/.conda/lib/python3.11/site-packages/IPython/core/ultratb.py\", line 1085, in format_exception_as_a_whole\n",
      "  File \"/Users/KatarzynaPerks/Documents/GitHub/kperks_Geldingadalir/.conda/lib/python3.11/site-packages/IPython/core/ultratb.py\", line 1136, in get_records\n",
      "  File \"/Users/KatarzynaPerks/Documents/GitHub/kperks_Geldingadalir/.conda/lib/python3.11/site-packages/pygments/styles/__init__.py\", line 47, in get_style_by_name\n",
      "pygments.util.ClassNotFound: Could not find style module 'pygments.styles.default', though it should be builtin.\n"
     ]
    }
   ],
   "source": [
    "from scipy import signal\n",
    "\n",
    "#compute power spectral density using Welch's Method\n",
    "fs = 25 #sampling rate in hz\n",
    "window = 10*10 #second window to compute ffts over, at least 10x the period of the lowest freq you care about\n",
    "\n",
    "#generate a Tukey window to taper the data with\n",
    "taper = signal.windows.tukey(len(east_component_data))\n",
    "\n",
    "#welch returns frequency and power given a signal and sampling rate\n",
    "f, Pxx_den = signal.welch(east_component_data*taper, fs, nperseg=window*fs)\n",
    "\n",
    "plt.figure(figsize=(7,7))\n",
    "plt.loglog(f, Pxx_den, color='k')\n",
    "plt.xlabel('Frequency [Hz]')\n",
    "plt.ylabel('PSD [Counts**2/Hz]')\n",
    "plt.title('PSD for Day '+file_name.split('_')[0])\n",
    "plt.xlim(np.min(f), np.max(f))\n",
    "plt.grid();"
   ]
  },
  {
   "cell_type": "code",
   "execution_count": 8,
   "metadata": {},
   "outputs": [
    {
     "name": "stdout",
     "output_type": "stream",
     "text": [
      "Unexpected exception formatting exception. Falling back to standard exception\n"
     ]
    },
    {
     "name": "stderr",
     "output_type": "stream",
     "text": [
      "Traceback (most recent call last):\n",
      "  File \"/Users/KatarzynaPerks/Documents/GitHub/kperks_Geldingadalir/.conda/lib/python3.11/site-packages/IPython/core/interactiveshell.py\", line 3577, in run_code\n",
      "  File \"/var/folders/m2/42vv0n3j53n_t2lw8y8x0td40000gn/T/ipykernel_16289/3184825917.py\", line 6, in <module>\n",
      "    taper = signal.windows.tukey(len(east_component_data))\n",
      "            ^^^^^^\n",
      "NameError: name 'signal' is not defined\n",
      "\n",
      "During handling of the above exception, another exception occurred:\n",
      "\n",
      "Traceback (most recent call last):\n",
      "  File \"/Users/KatarzynaPerks/Documents/GitHub/kperks_Geldingadalir/.conda/lib/python3.11/site-packages/pygments/styles/__init__.py\", line 45, in get_style_by_name\n",
      "ModuleNotFoundError: No module named 'pygments.styles.default'\n",
      "\n",
      "During handling of the above exception, another exception occurred:\n",
      "\n",
      "Traceback (most recent call last):\n",
      "  File \"/Users/KatarzynaPerks/Documents/GitHub/kperks_Geldingadalir/.conda/lib/python3.11/site-packages/IPython/core/interactiveshell.py\", line 2168, in showtraceback\n",
      "  File \"/Users/KatarzynaPerks/Documents/GitHub/kperks_Geldingadalir/.conda/lib/python3.11/site-packages/IPython/core/ultratb.py\", line 1457, in structured_traceback\n",
      "  File \"/Users/KatarzynaPerks/Documents/GitHub/kperks_Geldingadalir/.conda/lib/python3.11/site-packages/IPython/core/ultratb.py\", line 1348, in structured_traceback\n",
      "  File \"/Users/KatarzynaPerks/Documents/GitHub/kperks_Geldingadalir/.conda/lib/python3.11/site-packages/IPython/core/ultratb.py\", line 1195, in structured_traceback\n",
      "  File \"/Users/KatarzynaPerks/Documents/GitHub/kperks_Geldingadalir/.conda/lib/python3.11/site-packages/IPython/core/ultratb.py\", line 1085, in format_exception_as_a_whole\n",
      "  File \"/Users/KatarzynaPerks/Documents/GitHub/kperks_Geldingadalir/.conda/lib/python3.11/site-packages/IPython/core/ultratb.py\", line 1136, in get_records\n",
      "  File \"/Users/KatarzynaPerks/Documents/GitHub/kperks_Geldingadalir/.conda/lib/python3.11/site-packages/pygments/styles/__init__.py\", line 47, in get_style_by_name\n",
      "pygments.util.ClassNotFound: Could not find style module 'pygments.styles.default', though it should be builtin.\n"
     ]
    }
   ],
   "source": [
    "#plot spectrogram\n",
    "fs = 25\n",
    "window = 10*10\n",
    "\n",
    "#generate a Tukey window to taper the data with\n",
    "taper = signal.windows.tukey(len(east_component_data))\n",
    "\n",
    "#compute the spectrogram\n",
    "f, t, Zxx = signal.stft(taper*east_component_data, fs=fs, nperseg=window*fs, noverlap=200)\n",
    "\n",
    "plt.figure(figsize=(15,5))\n",
    "plt.pcolormesh(t/3600, f, np.log10(np.abs(Zxx)), shading='gouraud', cmap='magma')\n",
    "plt.colorbar(label='Log10(Power)', shrink=0.7)\n",
    "plt.xlabel('Time (Hours)')\n",
    "plt.ylabel('Frequency (Hz)');"
   ]
  },
  {
   "cell_type": "markdown",
   "metadata": {},
   "source": [
    "## Conclusion <br>\n",
    "\n",
    "This introductory analysis shows that our data is more or less evenly distributed around 0, as expected, and has a large standard deviation, owing to its signal fluctuating wildly between extreme values. The frequency analysis shows that much of the signal's energy is concentrated below 1 Hz, and for this day of data, is relatively stable. <br>\n",
    "\n",
    "Correlation analysis is included in the Dimensionality Reduction notebook rather than here, as it feeds naturally into feature selection."
   ]
  },
  {
   "cell_type": "markdown",
   "metadata": {},
   "source": [
    "\n",
    "\n",
    "### Task ###\n",
    "Perform a basic exploration of the cleaned data to understand its structure and key characteristics.\n",
    "\n",
    "### Requirements ###\n",
    "\n",
    "This notebook will include:\n",
    "- Basic summary statistics of the dataset (mean, variance, min, max, etc.).\n",
    "- Visualization of feature distributions (histograms, box plots, etc.).\n",
    "- Correlation analysis between different features and target variables (correlation matrix, heatmaps).\n",
    "- Brief discussion on any patterns or insights observed during the analysis.\n"
   ]
  },
  {
   "cell_type": "markdown",
   "metadata": {},
   "source": []
  }
 ],
 "metadata": {
  "kernelspec": {
   "display_name": "Python 3",
   "language": "python",
   "name": "python3"
  },
  "language_info": {
   "codemirror_mode": {
    "name": "ipython",
    "version": 3
   },
   "file_extension": ".py",
   "mimetype": "text/x-python",
   "name": "python",
   "nbconvert_exporter": "python",
   "pygments_lexer": "ipython3",
   "version": "3.11.10"
  }
 },
 "nbformat": 4,
 "nbformat_minor": 2
}
